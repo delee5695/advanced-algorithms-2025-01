{
 "cells": [
  {
   "cell_type": "markdown",
   "metadata": {},
   "source": [
    "# Approx Lab\n",
    "\n",
    "The goal of this lab is to gain experience using approximation algorithms.\n",
    "\n",
    "For the purpose of this assignment, you will be implementing the knapsack problem. Before continuing, the following cell contains any dependencies you may need for this assignment."
   ]
  },
  {
   "cell_type": "code",
   "execution_count": null,
   "metadata": {},
   "outputs": [],
   "source": [
    "import pandas as pd"
   ]
  },
  {
   "cell_type": "markdown",
   "metadata": {},
   "source": [
    "## Background Info\n",
    "\n",
    "### Knapsack Problem\n",
    "We are actually going to be looking at a specific (hopefully fun) implementation of the knapsack problem.\n",
    "\n",
    "The traditional knapsack problem asks you to pack a set of items, with given weights and values into a \"knapsack\" with a maximum capacity. You cannot pack more items than the capacity of the knapsack. The goal is to select a subset of items that maximize the total value with what can fit in the knapsack. The name \"knapsack\" comes from the similarity to a hiker trying to pack a bag without going over a certain weight.\n",
    "\n",
    "The knapsack problem is an NP-Hard optimization problem, which is why it is one of the classic approximation algorithms.\n",
    "\n",
    "### Specifications for this Lab\n",
    "The variation that we will be doing in this assignment is referred to as an 0/1 knapsack problem, meaning that items must be completely put in the knapsack or they must be left behind (you can't have a fractional portion of an item). We will be representing this as a simple fantasy sports league - specifically Formula 1 drivers. \n",
    "\n",
    "You are provided with a list of F1 drivers and constructors with given costs and points as well as a budget of $100M. You will be selecting five drivers and two constructors (teams). \n",
    "\n",
    "### Scoring Information\n",
    "Points are gained from qualification results for drivers and constructors as well as race results for drivers and constructors. \n",
    "\n",
    "<!-- Qualifications\n",
    "- Drivers score based on their resulting position \n",
    "- Constructor score the combined total of their two drivers in qualifying plus a modifier based on how far both their drivers get. -->\n",
    "<!-- \n",
    "| Drivers    | Points |\n",
    "| -------- | ------- |\n",
    "| Pole Position (1st Place) | 10 |\n",
    "| 2nd Place | 9 |\n",
    "| 3rd Place | 8 |\n",
    "| 4th Place | 7 |\n",
    "| 5th Place | 6 |\n",
    "| 6th Place | 5 |\n",
    "| 7th Place | 4 |\n",
    "| 8th Place | 3 |\n",
    "| 9th Place | 2 |\n",
    "| 10th Place | 1 |\n",
    "| 11th-20th Place | 0 |\n",
    "| No Time Set | 0 |\n",
    "| Disqualification | 0 | -->\n",
    "\n",
    "\n",
    "<!-- | Constructors | Points |\n",
    "| ----------- | ------- |\n",
    "| Neither Driver Reaches Q2 | -1 |\n",
    "| One Driver Reaches Q2 | 1 |\n",
    "| Both Drivers Reach Q2 | 5 |\n",
    "| Both Drivers Reach Q3 | 10 | -->\n",
    "\n",
    "\n",
    "<!-- Race\n",
    "- Drivers score based on their resulting position, position difference from starting order, and some additional bonuses\n",
    "- Constructors score a combined total of their two drivers' results (excluding the Driver of the Day bonus) ~~plus a modifier based on pitstop times~~ -->\n",
    "\n",
    "<!-- | Drivers | Points |\n",
    "| -------- | ------- |\n",
    "| Positions Gained | 1/position |\n",
    "| Positions Lost | -1/position |\n",
    "| Overtakes Made | 1/overtake |\n",
    "| Fastest Lap | 10 |\n",
    "| Driver of the Day | 10 | -->\n",
    "\n",
    "<!-- | Race Result | Points |\n",
    "| -------- | ------- |\n",
    "| 1st Place | 25 |\n",
    "| 2nd Place | 18 |\n",
    "| 3rd Place | 15 |\n",
    "| 4th Place | 12 |\n",
    "| 5th Place | 10 |\n",
    "| 6th Place | 8 |\n",
    "| 7th Place | 6 |\n",
    "| 8th Place | 4 |\n",
    "| 9th Place | 2 |\n",
    "| 10th Place | 1 |\n",
    "| 11th-20th Place | 0 |\n",
    "| DNF | -20 |\n",
    "| Disqualification | -20 | -->\n",
    "\n",
    "Fortunately for you, we have access to the current point standings post-2025 China GP for drivers & constructors, which are available in `drivers.csv` & `constructors.csv`.\n",
    "\n",
    "*Note: The costs are in millions, so 30 is actually 30 M.\n",
    "\n",
    "### Questions (Answered in Various Parts of the Lab): \n",
    "1. What is the general setup of the problem?\n",
    "2. Determining the mathematical functions of the problem\n",
    "3. Implementing a greedy algorithm\n"
   ]
  },
  {
   "cell_type": "markdown",
   "metadata": {},
   "source": [
    "## A. Assessing the Problem"
   ]
  },
  {
   "cell_type": "markdown",
   "metadata": {},
   "source": [
    "The values that are provided for this lab are from the points distribution PRIOR to the Japan Grand Prix (which means we can actually compare with the race results at the submission deadline!)"
   ]
  },
  {
   "cell_type": "markdown",
   "metadata": {},
   "source": [
    "Create a fantasy team https://fantasy.formula1.com/en/create-team for the upcoming Grand Prix to get a better idea of what drivers, constructors, points, and the budget are. Who is on your team & how much did you spend? Don't spend too much time on this, it really is just to get familiar with the format.\n",
    "\n",
    "(Write your answer here)\n",
    "\n",
    "What represents the \"items\" in the knapsack? \n",
    "\n",
    "(Write your answer here)\n",
    "\n",
    "What represents the weights?\n",
    "\n",
    "(Write your answer here)\n",
    "\n",
    "What represents the values?\n",
    "\n",
    "(Write your answer here)"
   ]
  },
  {
   "cell_type": "code",
   "execution_count": null,
   "metadata": {},
   "outputs": [],
   "source": [
    "# Load the data from the CSV files into a format that you are comfortable working with\n",
    "# This can be arrays, dictionaries, or pd DataFrames\n",
    "\n",
    "# Print/Display your data as well to confirm that you have successfully saved it."
   ]
  },
  {
   "cell_type": "markdown",
   "metadata": {},
   "source": [
    "# B. Integer Program\n",
    "\n",
    "Before implementing our approx algorithm, we need to first consider the integer program. \n",
    "\n",
    "Given the following variables, create an integer program that maximizes the total points of drivers while remaining under the budget: \n",
    "- $x_i$ is the decision variable that determines whether driver $i$ is included in the team or not\n",
    "- $p_i$ is the # of points that driver $i$ is worth\n",
    "- $c_i$ is the cost of driver $i$\n",
    "\n",
    "For now, we will focus on just the drivers and ignore the constructors. We will also temporarily reduce our budget to **$50M**\n",
    "\n",
    "While we are not planning on implementing the full integer program, it helps us quantify parts of the problem"
   ]
  },
  {
   "cell_type": "markdown",
   "metadata": {},
   "source": [
    "\n",
    "$\\text{maximize} \\quad \\sum_{}^{}$  \\\n",
    "$\\text{subject to} \\quad $ \n"
   ]
  },
  {
   "cell_type": "markdown",
   "metadata": {},
   "source": [
    "## Decision Variable & Constraints\n",
    "\n",
    "We can make helper functions for our future algorithm based on constraints that we derive when forming the IP: \n",
    "1. Which drivers should be included in our solution? \n",
    "2. What is our maximum cost?\n",
    "3. What is our maximum # of drivers? "
   ]
  },
  {
   "cell_type": "code",
   "execution_count": 1,
   "metadata": {},
   "outputs": [],
   "source": [
    "budget = 50 # in millions\n",
    "\n",
    "# Replace with your code"
   ]
  },
  {
   "cell_type": "markdown",
   "metadata": {},
   "source": [
    "# C. Greedy Algorithm\n"
   ]
  },
  {
   "cell_type": "markdown",
   "metadata": {},
   "source": [
    "There are multiple ways we can go about solving the knapsack problem. For this lab, we will be focusing on a greedy algorithm and a variant of that.\n",
    "\n",
    "Let's start with a basic greedy algorithm:\n",
    "1. Calculate the value-to-cost ratio for each driver \n",
    "2. Sort drivers in non-increasing order of value-to-cost\n",
    "2. Greedily select drivers from list until either budget or max drivers constraint is hit\n",
    "\n",
    "Use the helper methods from the previous part in your implementation."
   ]
  },
  {
   "cell_type": "code",
   "execution_count": null,
   "metadata": {},
   "outputs": [],
   "source": [
    "def value_to_cost(items): \n",
    "    # Replace with your code\n",
    "    pass\n",
    "\n",
    "def sort_items(items): \n",
    "    # Replace with your code\n",
    "    pass\n",
    "\n",
    "def greedy_driver_select(drivers):\n",
    "    # Replace with your code\n",
    "    pass"
   ]
  },
  {
   "cell_type": "markdown",
   "metadata": {},
   "source": [
    "Try running your basic greedy algorithm. \n",
    "\n",
    "You may notice a few flaws:\n",
    "1. The greedy algorithm is only looking at value-to-cost ratio, which may miss out on an overall improvement in value that still fits within the budget\n",
    "2. Depending on your implementation, you may not currently be meeting the \"5 total drivers\" constraint - this is fine"
   ]
  },
  {
   "cell_type": "markdown",
   "metadata": {},
   "source": [
    "\n",
    "## Redux Greedy Algorithm\n",
    "We are going to next implement a small adjustment to this algorithm in order to improve its performance. \\\n",
    "This is a 2-approximation for the knapsack problem. \n",
    "\n",
    "1. Calculate the value-to-cost ratio for each driver\n",
    "2. Sort drivers in non-increasing order of value-to-cost\n",
    "3. Greedily add items until we hit an item that is too big\n",
    "4. Compare the too big item against the already existing list of items & pick the better of the two\n",
    "\n",
    "It might help to make a separate function to handle #4. "
   ]
  },
  {
   "cell_type": "code",
   "execution_count": 4,
   "metadata": {},
   "outputs": [],
   "source": [
    "def redux_greedy_driver_select(drivers):\n",
    "    # Replace with your code\n",
    "    pass"
   ]
  },
  {
   "cell_type": "markdown",
   "metadata": {},
   "source": [
    "# D. Reintroducing Constructors\n",
    "\n",
    "We've been neglecting our constructors so far and cutting our budget. Let's make them feel included in our processes again. \n",
    "\n",
    "## Integer Program\n",
    "\n",
    "We should start by redefining our original IP to see what constraints we need to add. \\\n",
    "We've added some more variables to our IP: \n",
    "- $x_j$ is the decision variable that determines whether constructor $j$ is included in the team or not \n",
    "- $p_j$ is the # of points that constructor $j$ is worth\n",
    "- $c_j$ is the cost of constructor $j$\n",
    "\n",
    "Our budget has also been increased back to **100M**. "
   ]
  },
  {
   "cell_type": "markdown",
   "metadata": {},
   "source": [
    "\n",
    "$\\text{maximize} \\quad \\sum_{}^{}$  \\\n",
    "$\\text{subject to} \\quad $ \n"
   ]
  },
  {
   "cell_type": "markdown",
   "metadata": {},
   "source": [
    "## Constraints \n",
    "\n",
    "To redefine our greedy algorithm to include constructors, we have to also write helpers that correspond to our new constraints."
   ]
  },
  {
   "cell_type": "code",
   "execution_count": null,
   "metadata": {},
   "outputs": [],
   "source": [
    "budget = 100 # in millions\n",
    "\n",
    "# Replace with your code"
   ]
  },
  {
   "cell_type": "markdown",
   "metadata": {},
   "source": [
    "## Greedy Algorithm\n",
    "\n",
    "Update the greedy algorithm to calculate for buying both constructors and drivers. \\\n",
    "Remember, your list of non-increasing value-to-cost ratios should be a combination of both drivers & constructors. "
   ]
  },
  {
   "cell_type": "code",
   "execution_count": 5,
   "metadata": {},
   "outputs": [],
   "source": [
    "def greedy_f1(drivers, constructors):\n",
    "    # Replace with your code\n",
    "    pass"
   ]
  }
 ],
 "metadata": {
  "kernelspec": {
   "display_name": "base",
   "language": "python",
   "name": "python3"
  },
  "language_info": {
   "codemirror_mode": {
    "name": "ipython",
    "version": 3
   },
   "file_extension": ".py",
   "mimetype": "text/x-python",
   "name": "python",
   "nbconvert_exporter": "python",
   "pygments_lexer": "ipython3",
   "version": "3.12.2"
  }
 },
 "nbformat": 4,
 "nbformat_minor": 2
}
